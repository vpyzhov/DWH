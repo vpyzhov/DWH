{
 "cells": [
  {
   "cell_type": "code",
   "execution_count": 34,
   "id": "eacb5806-246f-48ac-9ca5-04243ff4022a",
   "metadata": {},
   "outputs": [],
   "source": [
    "from pyspark.sql import SparkSession\n",
    "\n",
    "spark = SparkSession.builder.appName(\"DWH_Spark_Postgres\").config(\"spark.jars\", \"/mnt/driver/postgresql-42.7.4.jar\").getOrCreate()\n"
   ]
  },
  {
   "cell_type": "code",
   "execution_count": 35,
   "id": "b93dc030-da96-4ab7-85d2-8a15b4a86871",
   "metadata": {},
   "outputs": [],
   "source": [
    "# Параметры подключения PostgreSQL\n",
    "url = \"jdbc:postgresql://my_postgres:5432/dwh\"\n",
    "properties = {\n",
    "    \"user\": \"admin\",\n",
    "    \"password\": \"admin\",\n",
    "    \"driver\": \"org.postgresql.Driver\"\n",
    "}"
   ]
  },
  {
   "cell_type": "code",
   "execution_count": 48,
   "id": "438189bc-42ab-46a8-8827-2335e339b6ce",
   "metadata": {},
   "outputs": [
    {
     "name": "stdout",
     "output_type": "stream",
     "text": [
      "+------------+------------------+--------------------+------------------+--------------------+--------------------+\n",
      "|craftsman_id|    craftsman_name|   craftsman_address|craftsman_birthday|     craftsman_email|           load_dttm|\n",
      "+------------+------------------+--------------------+------------------+--------------------+--------------------+\n",
      "|           1|   Griffith MacVay|   3370 Laurel Point|        1994-02-15|drickwood1@soundc...|2024-12-24 10:46:...|\n",
      "|           2|       Deeyn Jaggs|85 Stone Corner C...|        1996-12-26| clanghorn2@cnbc.com|2024-12-24 10:46:...|\n",
      "|           3|    Shawn Alentyev| 36752 Lyons Terrace|        1993-01-18|lmcdougall3@trell...|2024-12-24 10:46:...|\n",
      "|           4|Jorrie Brigginshaw|  5693 Boyd Junction|        2001-12-28|dfettes4@youtube.com|2024-12-24 10:46:...|\n",
      "|           5|      Fae Winscomb|    2705 Elgar Trail|        2004-07-15|     vlapree5@360.cn|2024-12-24 10:46:...|\n",
      "+------------+------------------+--------------------+------------------+--------------------+--------------------+\n",
      "only showing top 5 rows\n",
      "\n",
      "+----------+--------------------+--------------------+----------------+-------------+--------------------+\n",
      "|product_id|        product_name| product_description|    product_type|product_price|           load_dttm|\n",
      "+----------+--------------------+--------------------+----------------+-------------+--------------------+\n",
      "|         1|Handwash - Skin Care|HandMade skincare...|Beauty & Hygiene|           94|2024-12-24 10:59:...|\n",
      "|         2|HandMade Scarlet ...|Shade NameScarlet...|         clothes|          128|2024-12-24 10:59:...|\n",
      "|         3|        Bathing Soap|HandMade Soap is ...|Beauty & Hygiene|          119|2024-12-24 10:59:...|\n",
      "|         4|HandMade Men Blue...|Blue solid formal...|         clothes|          113|2024-12-24 10:59:...|\n",
      "|         5|Cream Beauty Bath...|HandMade Cream Be...|Beauty & Hygiene|          228|2024-12-24 10:59:...|\n",
      "+----------+--------------------+--------------------+----------------+-------------+--------------------+\n",
      "only showing top 5 rows\n",
      "\n",
      "+--------+----------+------------+-----------+------------------+---------------------+------------+--------------------+\n",
      "|order_id|product_id|craftsman_id|customer_id|order_created_date|order_completion_date|order_status|           load_dttm|\n",
      "+--------+----------+------------+-----------+------------------+---------------------+------------+--------------------+\n",
      "|       1|         1|           1|          1|        2022-11-25|           2022-11-27|        done|2024-12-24 11:06:...|\n",
      "|       2|         2|           2|          2|        2020-03-22|                 NULL| in progress|2024-12-24 11:06:...|\n",
      "|       3|         3|           3|          3|        2020-02-20|           2020-02-22|        done|2024-12-24 11:06:...|\n",
      "|       4|         4|           4|          4|        2020-08-16|                 NULL|    delivery|2024-12-24 11:06:...|\n",
      "|       5|         5|           5|          5|        2021-01-31|                 NULL|     created|2024-12-24 11:06:...|\n",
      "+--------+----------+------------+-----------+------------------+---------------------+------------+--------------------+\n",
      "only showing top 5 rows\n",
      "\n"
     ]
    }
   ],
   "source": [
    "# Чтение таблиц измерений и фактов из DWH\n",
    "d_craftsmans_df = spark.read.jdbc(url=url, table=\"dwh.d_craftsmans\", properties=properties)\n",
    "d_products_df = spark.read.jdbc(url=url, table=\"dwh.d_products\", properties=properties)\n",
    "f_orders_df = spark.read.jdbc(url=url, table=\"dwh.f_orders\", properties=properties)\n",
    "\n",
    "# Проверка данных\n",
    "d_craftsmans_df.show(5)\n",
    "d_products_df.show(5)\n",
    "f_orders_df.show(5)\n"
   ]
  },
  {
   "cell_type": "code",
   "execution_count": 49,
   "id": "d61dc8d5-d76c-4409-a55f-99fee45ee629",
   "metadata": {},
   "outputs": [
    {
     "name": "stdout",
     "output_type": "stream",
     "text": [
      "Количество строк в таблице f_orders: 999\n",
      "Количество строк в таблице d_craftsmans: 999\n",
      "Количество строк в таблице d_products: 999\n"
     ]
    }
   ],
   "source": [
    "# Чтение данных из таблиц DWH\n",
    "f_orders_df = spark.read.jdbc(\n",
    "    url=url,\n",
    "    table=\"dwh.f_orders\",\n",
    "    properties=properties\n",
    ")\n",
    "\n",
    "d_craftsmans_df = spark.read.jdbc(\n",
    "    url=url,\n",
    "    table=\"dwh.d_craftsmans\",\n",
    "    properties=properties\n",
    ")\n",
    "\n",
    "d_products_df = spark.read.jdbc(\n",
    "    url=url,\n",
    "    table=\"dwh.d_products\",\n",
    "    properties=properties\n",
    ")\n",
    "\n",
    "# Проверяем количество строк в каждом DataFrame\n",
    "print(f\"Количество строк в таблице f_orders: {f_orders_df.count()}\")\n",
    "print(f\"Количество строк в таблице d_craftsmans: {d_craftsmans_df.count()}\")\n",
    "print(f\"Количество строк в таблице d_products: {d_products_df.count()}\")\n"
   ]
  },
  {
   "cell_type": "code",
   "execution_count": 51,
   "id": "82275934-7203-40a3-967b-25e6f46b6393",
   "metadata": {},
   "outputs": [
    {
     "name": "stdout",
     "output_type": "stream",
     "text": [
      "root\n",
      " |-- craftsman_id: long (nullable = true)\n",
      " |-- craftsman_name: string (nullable = true)\n",
      " |-- product_category: string (nullable = true)\n",
      " |-- total_orders: long (nullable = false)\n",
      " |-- total_sales: long (nullable = true)\n",
      " |-- last_sale_date: date (nullable = true)\n",
      " |-- load_dttm: timestamp (nullable = false)\n",
      "\n",
      "+------------+------------------+----------------+------------+-----------+--------------+--------------------+\n",
      "|craftsman_id|    craftsman_name|product_category|total_orders|total_sales|last_sale_date|           load_dttm|\n",
      "+------------+------------------+----------------+------------+-----------+--------------+--------------------+\n",
      "|         558|     Brian Glashby|         clothes|           1|        100|    2018-01-19|2024-12-24 16:55:...|\n",
      "|         222|  Glynda Ravenshaw|Beauty & Hygiene|           1|         87|    2020-05-07|2024-12-24 16:55:...|\n",
      "|         730|   Tammara Parratt|         clothes|           1|        140|    2020-05-10|2024-12-24 16:55:...|\n",
      "|         442|     Rubetta Pipet|Beauty & Hygiene|           1|        222|    2020-07-27|2024-12-24 16:55:...|\n",
      "|         720| Sapphire Atterley|         clothes|           1|        261|    2022-01-29|2024-12-24 16:55:...|\n",
      "|         277|  Allene Lockhurst|Beauty & Hygiene|           1|        107|    2021-03-01|2024-12-24 16:55:...|\n",
      "|         287|  Gregorio Beddard|         clothes|           1|        209|    2022-01-30|2024-12-24 16:55:...|\n",
      "|         113| Fannie Gannicleff|Beauty & Hygiene|           1|        269|    2021-10-13|2024-12-24 16:55:...|\n",
      "|         736|    Zitella Gamble|Beauty & Hygiene|           1|        275|    2018-03-16|2024-12-24 16:55:...|\n",
      "|         831|  Dorette Boustead|Beauty & Hygiene|           1|        138|    2018-07-30|2024-12-24 16:55:...|\n",
      "|         602|       Val Jacquot|         clothes|           1|         55|    2019-10-03|2024-12-24 16:55:...|\n",
      "|         198|  Lucienne Jiggins|Beauty & Hygiene|           1|        111|    2020-07-18|2024-12-24 16:55:...|\n",
      "|         130|Leicester Scholard|Beauty & Hygiene|           1|         61|    2019-12-30|2024-12-24 16:55:...|\n",
      "|         427|    Woodman Doyley|Beauty & Hygiene|           1|        235|    2020-09-08|2024-12-24 16:55:...|\n",
      "|         487|    Reece Quartley|         clothes|           1|         85|    2019-07-11|2024-12-24 16:55:...|\n",
      "|           7|        Roger Daal|Beauty & Hygiene|           1|        174|    2018-08-25|2024-12-24 16:55:...|\n",
      "|         677|       Maia Dumbar|Beauty & Hygiene|           1|        121|    2018-05-05|2024-12-24 16:55:...|\n",
      "|         532|  Mohandis McCully|         clothes|           1|        117|    2019-08-18|2024-12-24 16:55:...|\n",
      "|         551|   Alvinia Gorries|Beauty & Hygiene|           1|        219|    2018-04-11|2024-12-24 16:55:...|\n",
      "|         830|    Trudie Yarnley|         clothes|           1|        190|    2020-03-07|2024-12-24 16:55:...|\n",
      "+------------+------------------+----------------+------------+-----------+--------------+--------------------+\n",
      "only showing top 20 rows\n",
      "\n"
     ]
    }
   ],
   "source": [
    "from pyspark.sql.functions import col, count, sum, max as spark_max, current_timestamp\n",
    "\n",
    "# Формирование витрины данных\n",
    "craftsman_report_df = (\n",
    "    f_orders_df\n",
    "    .filter(col(\"order_status\") == \"done\")  # Учитываем только завершенные заказы\n",
    "    .join(d_craftsmans_df, on=\"craftsman_id\", how=\"inner\")  # Объединение с таблицей мастеров\n",
    "    .join(d_products_df, on=\"product_id\", how=\"inner\")  # Объединение с таблицей продуктов\n",
    "    .groupBy(\n",
    "        \"craftsman_id\",  # Группируем по мастеру\n",
    "        \"craftsman_name\",\n",
    "        \"product_type\"  # Тип продукта\n",
    "    )\n",
    "    .agg(\n",
    "        count(\"*\").alias(\"total_orders\"),                # Количество заказов\n",
    "        sum(\"product_price\").alias(\"total_sales\"),       # Общая сумма продаж\n",
    "        spark_max(\"order_created_date\").alias(\"last_sale_date\")  # Дата последнего заказа\n",
    "    )\n",
    "    .withColumnRenamed(\"product_type\", \"product_category\")  # Переименовываем столбец\n",
    "    .withColumn(\"load_dttm\", current_timestamp())  # Добавляем метку времени загрузки\n",
    ")\n",
    "\n",
    "# Вывод схемы витрины данных\n",
    "craftsman_report_df.printSchema()\n",
    "\n",
    "# Вывод примера данных\n",
    "craftsman_report_df.show(20)\n"
   ]
  },
  {
   "cell_type": "code",
   "execution_count": 52,
   "id": "b6f26516-8867-4528-8a68-c86bf3b2d64b",
   "metadata": {},
   "outputs": [],
   "source": [
    "# Запись витрины данных в таблицу DWH\n",
    "craftsman_report_df.write.jdbc(\n",
    "    url=url,\n",
    "    table=\"dwh.craftsman_report_datamart\",\n",
    "    mode=\"overwrite\",  # Перезаписываем данные\n",
    "    properties=properties\n",
    ")\n"
   ]
  },
  {
   "cell_type": "code",
   "execution_count": null,
   "id": "217183c5-0f44-460e-bedb-2182da430e24",
   "metadata": {},
   "outputs": [],
   "source": []
  }
 ],
 "metadata": {
  "kernelspec": {
   "display_name": "Python 3 (ipykernel)",
   "language": "python",
   "name": "python3"
  },
  "language_info": {
   "codemirror_mode": {
    "name": "ipython",
    "version": 3
   },
   "file_extension": ".py",
   "mimetype": "text/x-python",
   "name": "python",
   "nbconvert_exporter": "python",
   "pygments_lexer": "ipython3",
   "version": "3.11.6"
  }
 },
 "nbformat": 4,
 "nbformat_minor": 5
}
